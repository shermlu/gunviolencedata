{
 "cells": [
  {
   "cell_type": "code",
   "execution_count": 1,
   "metadata": {
    "collapsed": true
   },
   "outputs": [],
   "source": [
    "import pandas as pd\n",
    "import matplotlib.pyplot as plt\n",
    "import numpy as np\n",
    "%matplotlib inline\n",
    "\n",
    "import plotly.plotly as plotly\n",
    "import plotly.graph_objs as go"
   ]
  },
  {
   "cell_type": "markdown",
   "metadata": {},
   "source": [
    "### This notebook uses a dataset from Kaggle (https://www.kaggle.com/jameslko/gun-violence-data) that contains gun violence data in America from 2013-2018. The entries for 2013 are incomplete, and only data up to March of 2018 are included. Not all gun incidents, including the Las Vegas Shooting, are included. Because that specific incident is  so important, it was added into the dataset. \n",
    "\n",
    "### Four analyses were performed. The first two looks at different ways to portray total incidents by mapping them out per state. The next one looks at where the more violent incidents occured, and the last one plots out the total number of incidents per month to see if there is a pattern in gun violence in America."
   ]
  },
  {
   "cell_type": "markdown",
   "metadata": {},
   "source": [
    "#### Downloading the data and adding Vegas statistics to the dataset"
   ]
  },
  {
   "cell_type": "code",
   "execution_count": 2,
   "metadata": {
    "collapsed": true
   },
   "outputs": [],
   "source": [
    "data = pd.read_csv('./gun-violence-data.csv')"
   ]
  },
  {
   "cell_type": "code",
   "execution_count": 3,
   "metadata": {
    "collapsed": true
   },
   "outputs": [],
   "source": [
    "lasvegas = [999999999, '2017-10-01', 'Nevada', 'Las Vegas', None, 59, 411, None, None, None, None, \n",
    "            None, None, None, 36.095, None, -115.171667, 47, None, None, None, None, None, None, \n",
    "            None, None, None, None, None]\n",
    "data.loc[len(data)] = lasvegas"
   ]
  },
  {
   "cell_type": "code",
   "execution_count": 4,
   "metadata": {},
   "outputs": [
    {
     "data": {
      "text/html": [
       "<div>\n",
       "<style>\n",
       "    .dataframe thead tr:only-child th {\n",
       "        text-align: right;\n",
       "    }\n",
       "\n",
       "    .dataframe thead th {\n",
       "        text-align: left;\n",
       "    }\n",
       "\n",
       "    .dataframe tbody tr th {\n",
       "        vertical-align: top;\n",
       "    }\n",
       "</style>\n",
       "<table border=\"1\" class=\"dataframe\">\n",
       "  <thead>\n",
       "    <tr style=\"text-align: right;\">\n",
       "      <th></th>\n",
       "      <th>incident_id</th>\n",
       "      <th>date</th>\n",
       "      <th>state</th>\n",
       "      <th>city_or_county</th>\n",
       "      <th>address</th>\n",
       "      <th>n_killed</th>\n",
       "      <th>n_injured</th>\n",
       "      <th>incident_url</th>\n",
       "      <th>source_url</th>\n",
       "      <th>incident_url_fields_missing</th>\n",
       "      <th>...</th>\n",
       "      <th>participant_age</th>\n",
       "      <th>participant_age_group</th>\n",
       "      <th>participant_gender</th>\n",
       "      <th>participant_name</th>\n",
       "      <th>participant_relationship</th>\n",
       "      <th>participant_status</th>\n",
       "      <th>participant_type</th>\n",
       "      <th>sources</th>\n",
       "      <th>state_house_district</th>\n",
       "      <th>state_senate_district</th>\n",
       "    </tr>\n",
       "  </thead>\n",
       "  <tbody>\n",
       "    <tr>\n",
       "      <th>239673</th>\n",
       "      <td>1083139</td>\n",
       "      <td>2018-03-31</td>\n",
       "      <td>Louisiana</td>\n",
       "      <td>Natchitoches</td>\n",
       "      <td>247 Keyser Ave</td>\n",
       "      <td>1</td>\n",
       "      <td>0</td>\n",
       "      <td>http://www.gunviolencearchive.org/incident/108...</td>\n",
       "      <td>http://www.ksla.com/story/37854648/man-wanted-...</td>\n",
       "      <td>False</td>\n",
       "      <td>...</td>\n",
       "      <td>1::21</td>\n",
       "      <td>0::Adult 18+||1::Adult 18+</td>\n",
       "      <td>0::Male||1::Male</td>\n",
       "      <td>0::Jamal Haskett||1::Jaquarious Tyjuan Ardison</td>\n",
       "      <td>NaN</td>\n",
       "      <td>0::Killed||1::Unharmed, Arrested</td>\n",
       "      <td>0::Victim||1::Subject-Suspect</td>\n",
       "      <td>http://www.ksla.com/story/37854648/man-wanted-...</td>\n",
       "      <td>23</td>\n",
       "      <td>31</td>\n",
       "    </tr>\n",
       "    <tr>\n",
       "      <th>239674</th>\n",
       "      <td>1083151</td>\n",
       "      <td>2018-03-31</td>\n",
       "      <td>Louisiana</td>\n",
       "      <td>Gretna</td>\n",
       "      <td>1300 block of Cook Street</td>\n",
       "      <td>0</td>\n",
       "      <td>1</td>\n",
       "      <td>http://www.gunviolencearchive.org/incident/108...</td>\n",
       "      <td>http://www.nola.com/crime/index.ssf/2018/04/sh...</td>\n",
       "      <td>False</td>\n",
       "      <td>...</td>\n",
       "      <td>0::21</td>\n",
       "      <td>0::Adult 18+</td>\n",
       "      <td>0::Male</td>\n",
       "      <td>NaN</td>\n",
       "      <td>NaN</td>\n",
       "      <td>0::Injured</td>\n",
       "      <td>0::Victim</td>\n",
       "      <td>http://www.nola.com/crime/index.ssf/2018/04/sh...</td>\n",
       "      <td>85</td>\n",
       "      <td>7</td>\n",
       "    </tr>\n",
       "    <tr>\n",
       "      <th>239675</th>\n",
       "      <td>1082514</td>\n",
       "      <td>2018-03-31</td>\n",
       "      <td>Texas</td>\n",
       "      <td>Houston</td>\n",
       "      <td>12630 Ashford Point Dr</td>\n",
       "      <td>1</td>\n",
       "      <td>0</td>\n",
       "      <td>http://www.gunviolencearchive.org/incident/108...</td>\n",
       "      <td>https://www.chron.com/news/houston-texas/houst...</td>\n",
       "      <td>False</td>\n",
       "      <td>...</td>\n",
       "      <td>0::42</td>\n",
       "      <td>0::Adult 18+</td>\n",
       "      <td>0::Male</td>\n",
       "      <td>0::Leroy Ellis</td>\n",
       "      <td>NaN</td>\n",
       "      <td>0::Killed</td>\n",
       "      <td>0::Victim</td>\n",
       "      <td>http://www.khou.com/article/news/hpd-investiga...</td>\n",
       "      <td>149</td>\n",
       "      <td>17</td>\n",
       "    </tr>\n",
       "    <tr>\n",
       "      <th>239676</th>\n",
       "      <td>1081940</td>\n",
       "      <td>2018-03-31</td>\n",
       "      <td>Maine</td>\n",
       "      <td>Norridgewock</td>\n",
       "      <td>434 Skowhegan Rd</td>\n",
       "      <td>2</td>\n",
       "      <td>0</td>\n",
       "      <td>http://www.gunviolencearchive.org/incident/108...</td>\n",
       "      <td>https://www.centralmaine.com/2018/03/31/police...</td>\n",
       "      <td>False</td>\n",
       "      <td>...</td>\n",
       "      <td>0::58||1::62</td>\n",
       "      <td>0::Adult 18+||1::Adult 18+</td>\n",
       "      <td>0::Female||1::Male</td>\n",
       "      <td>0::Marie Lancaster Hale||1::William Hale</td>\n",
       "      <td>1::Significant others - current or former</td>\n",
       "      <td>0::Killed||1::Killed</td>\n",
       "      <td>0::Victim||1::Subject-Suspect</td>\n",
       "      <td>https://www.centralmaine.com/2018/03/31/police...</td>\n",
       "      <td>111</td>\n",
       "      <td>3</td>\n",
       "    </tr>\n",
       "    <tr>\n",
       "      <th>239677</th>\n",
       "      <td>999999999</td>\n",
       "      <td>2017-10-01</td>\n",
       "      <td>Nevada</td>\n",
       "      <td>Las Vegas</td>\n",
       "      <td>None</td>\n",
       "      <td>59</td>\n",
       "      <td>411</td>\n",
       "      <td>None</td>\n",
       "      <td>None</td>\n",
       "      <td>None</td>\n",
       "      <td>...</td>\n",
       "      <td>None</td>\n",
       "      <td>None</td>\n",
       "      <td>None</td>\n",
       "      <td>None</td>\n",
       "      <td>None</td>\n",
       "      <td>None</td>\n",
       "      <td>None</td>\n",
       "      <td>None</td>\n",
       "      <td>None</td>\n",
       "      <td>None</td>\n",
       "    </tr>\n",
       "  </tbody>\n",
       "</table>\n",
       "<p>5 rows × 29 columns</p>\n",
       "</div>"
      ],
      "text/plain": [
       "        incident_id        date      state city_or_county  \\\n",
       "239673      1083139  2018-03-31  Louisiana   Natchitoches   \n",
       "239674      1083151  2018-03-31  Louisiana         Gretna   \n",
       "239675      1082514  2018-03-31      Texas        Houston   \n",
       "239676      1081940  2018-03-31      Maine   Norridgewock   \n",
       "239677    999999999  2017-10-01     Nevada      Las Vegas   \n",
       "\n",
       "                          address  n_killed  n_injured  \\\n",
       "239673             247 Keyser Ave         1          0   \n",
       "239674  1300 block of Cook Street         0          1   \n",
       "239675     12630 Ashford Point Dr         1          0   \n",
       "239676           434 Skowhegan Rd         2          0   \n",
       "239677                       None        59        411   \n",
       "\n",
       "                                             incident_url  \\\n",
       "239673  http://www.gunviolencearchive.org/incident/108...   \n",
       "239674  http://www.gunviolencearchive.org/incident/108...   \n",
       "239675  http://www.gunviolencearchive.org/incident/108...   \n",
       "239676  http://www.gunviolencearchive.org/incident/108...   \n",
       "239677                                               None   \n",
       "\n",
       "                                               source_url  \\\n",
       "239673  http://www.ksla.com/story/37854648/man-wanted-...   \n",
       "239674  http://www.nola.com/crime/index.ssf/2018/04/sh...   \n",
       "239675  https://www.chron.com/news/houston-texas/houst...   \n",
       "239676  https://www.centralmaine.com/2018/03/31/police...   \n",
       "239677                                               None   \n",
       "\n",
       "       incident_url_fields_missing          ...          participant_age  \\\n",
       "239673                       False          ...                    1::21   \n",
       "239674                       False          ...                    0::21   \n",
       "239675                       False          ...                    0::42   \n",
       "239676                       False          ...             0::58||1::62   \n",
       "239677                        None          ...                     None   \n",
       "\n",
       "             participant_age_group  participant_gender  \\\n",
       "239673  0::Adult 18+||1::Adult 18+    0::Male||1::Male   \n",
       "239674                0::Adult 18+             0::Male   \n",
       "239675                0::Adult 18+             0::Male   \n",
       "239676  0::Adult 18+||1::Adult 18+  0::Female||1::Male   \n",
       "239677                        None                None   \n",
       "\n",
       "                                      participant_name  \\\n",
       "239673  0::Jamal Haskett||1::Jaquarious Tyjuan Ardison   \n",
       "239674                                             NaN   \n",
       "239675                                  0::Leroy Ellis   \n",
       "239676        0::Marie Lancaster Hale||1::William Hale   \n",
       "239677                                            None   \n",
       "\n",
       "                         participant_relationship  \\\n",
       "239673                                        NaN   \n",
       "239674                                        NaN   \n",
       "239675                                        NaN   \n",
       "239676  1::Significant others - current or former   \n",
       "239677                                       None   \n",
       "\n",
       "                      participant_status               participant_type  \\\n",
       "239673  0::Killed||1::Unharmed, Arrested  0::Victim||1::Subject-Suspect   \n",
       "239674                        0::Injured                      0::Victim   \n",
       "239675                         0::Killed                      0::Victim   \n",
       "239676              0::Killed||1::Killed  0::Victim||1::Subject-Suspect   \n",
       "239677                              None                           None   \n",
       "\n",
       "                                                  sources  \\\n",
       "239673  http://www.ksla.com/story/37854648/man-wanted-...   \n",
       "239674  http://www.nola.com/crime/index.ssf/2018/04/sh...   \n",
       "239675  http://www.khou.com/article/news/hpd-investiga...   \n",
       "239676  https://www.centralmaine.com/2018/03/31/police...   \n",
       "239677                                               None   \n",
       "\n",
       "       state_house_district state_senate_district  \n",
       "239673                   23                    31  \n",
       "239674                   85                     7  \n",
       "239675                  149                    17  \n",
       "239676                  111                     3  \n",
       "239677                 None                  None  \n",
       "\n",
       "[5 rows x 29 columns]"
      ]
     },
     "execution_count": 4,
     "metadata": {},
     "output_type": "execute_result"
    }
   ],
   "source": [
    "data.tail()"
   ]
  },
  {
   "cell_type": "markdown",
   "metadata": {},
   "source": [
    "#### Add columns that break up the date by year and month, and calculate total number of victims per gun incident. The total number of victims is defined as the sum of the number of people killed and the number of people injured."
   ]
  },
  {
   "cell_type": "code",
   "execution_count": 5,
   "metadata": {
    "collapsed": true
   },
   "outputs": [],
   "source": [
    "data['year'] = data['date'].apply(lambda x:pd.to_datetime(x).year)\n",
    "data['month'] = data['date'].apply(lambda x:pd.to_datetime(x).month)\n",
    "data['victims'] = data['n_killed'] + data['n_injured']"
   ]
  },
  {
   "cell_type": "code",
   "execution_count": 6,
   "metadata": {},
   "outputs": [
    {
     "data": {
      "text/html": [
       "<div>\n",
       "<style>\n",
       "    .dataframe thead tr:only-child th {\n",
       "        text-align: right;\n",
       "    }\n",
       "\n",
       "    .dataframe thead th {\n",
       "        text-align: left;\n",
       "    }\n",
       "\n",
       "    .dataframe tbody tr th {\n",
       "        vertical-align: top;\n",
       "    }\n",
       "</style>\n",
       "<table border=\"1\" class=\"dataframe\">\n",
       "  <thead>\n",
       "    <tr style=\"text-align: right;\">\n",
       "      <th></th>\n",
       "      <th>incident_id</th>\n",
       "      <th>date</th>\n",
       "      <th>state</th>\n",
       "      <th>city_or_county</th>\n",
       "      <th>address</th>\n",
       "      <th>n_killed</th>\n",
       "      <th>n_injured</th>\n",
       "      <th>incident_url</th>\n",
       "      <th>source_url</th>\n",
       "      <th>incident_url_fields_missing</th>\n",
       "      <th>...</th>\n",
       "      <th>participant_name</th>\n",
       "      <th>participant_relationship</th>\n",
       "      <th>participant_status</th>\n",
       "      <th>participant_type</th>\n",
       "      <th>sources</th>\n",
       "      <th>state_house_district</th>\n",
       "      <th>state_senate_district</th>\n",
       "      <th>year</th>\n",
       "      <th>month</th>\n",
       "      <th>victims</th>\n",
       "    </tr>\n",
       "  </thead>\n",
       "  <tbody>\n",
       "    <tr>\n",
       "      <th>0</th>\n",
       "      <td>461105</td>\n",
       "      <td>2013-01-01</td>\n",
       "      <td>Pennsylvania</td>\n",
       "      <td>Mckeesport</td>\n",
       "      <td>1506 Versailles Avenue and Coursin Street</td>\n",
       "      <td>0</td>\n",
       "      <td>4</td>\n",
       "      <td>http://www.gunviolencearchive.org/incident/461105</td>\n",
       "      <td>http://www.post-gazette.com/local/south/2013/0...</td>\n",
       "      <td>False</td>\n",
       "      <td>...</td>\n",
       "      <td>0::Julian Sims</td>\n",
       "      <td>NaN</td>\n",
       "      <td>0::Arrested||1::Injured||2::Injured||3::Injure...</td>\n",
       "      <td>0::Victim||1::Victim||2::Victim||3::Victim||4:...</td>\n",
       "      <td>http://pittsburgh.cbslocal.com/2013/01/01/4-pe...</td>\n",
       "      <td>NaN</td>\n",
       "      <td>NaN</td>\n",
       "      <td>2013</td>\n",
       "      <td>1</td>\n",
       "      <td>4</td>\n",
       "    </tr>\n",
       "    <tr>\n",
       "      <th>1</th>\n",
       "      <td>460726</td>\n",
       "      <td>2013-01-01</td>\n",
       "      <td>California</td>\n",
       "      <td>Hawthorne</td>\n",
       "      <td>13500 block of Cerise Avenue</td>\n",
       "      <td>1</td>\n",
       "      <td>3</td>\n",
       "      <td>http://www.gunviolencearchive.org/incident/460726</td>\n",
       "      <td>http://www.dailybulletin.com/article/zz/201301...</td>\n",
       "      <td>False</td>\n",
       "      <td>...</td>\n",
       "      <td>0::Bernard Gillis</td>\n",
       "      <td>NaN</td>\n",
       "      <td>0::Killed||1::Injured||2::Injured||3::Injured</td>\n",
       "      <td>0::Victim||1::Victim||2::Victim||3::Victim||4:...</td>\n",
       "      <td>http://losangeles.cbslocal.com/2013/01/01/man-...</td>\n",
       "      <td>62</td>\n",
       "      <td>35</td>\n",
       "      <td>2013</td>\n",
       "      <td>1</td>\n",
       "      <td>4</td>\n",
       "    </tr>\n",
       "    <tr>\n",
       "      <th>2</th>\n",
       "      <td>478855</td>\n",
       "      <td>2013-01-01</td>\n",
       "      <td>Ohio</td>\n",
       "      <td>Lorain</td>\n",
       "      <td>1776 East 28th Street</td>\n",
       "      <td>1</td>\n",
       "      <td>3</td>\n",
       "      <td>http://www.gunviolencearchive.org/incident/478855</td>\n",
       "      <td>http://chronicle.northcoastnow.com/2013/02/14/...</td>\n",
       "      <td>False</td>\n",
       "      <td>...</td>\n",
       "      <td>0::Damien Bell||1::Desmen Noble||2::Herman Sea...</td>\n",
       "      <td>NaN</td>\n",
       "      <td>0::Injured, Unharmed, Arrested||1::Unharmed, A...</td>\n",
       "      <td>0::Subject-Suspect||1::Subject-Suspect||2::Vic...</td>\n",
       "      <td>http://www.morningjournal.com/general-news/201...</td>\n",
       "      <td>56</td>\n",
       "      <td>13</td>\n",
       "      <td>2013</td>\n",
       "      <td>1</td>\n",
       "      <td>4</td>\n",
       "    </tr>\n",
       "    <tr>\n",
       "      <th>3</th>\n",
       "      <td>478925</td>\n",
       "      <td>2013-01-05</td>\n",
       "      <td>Colorado</td>\n",
       "      <td>Aurora</td>\n",
       "      <td>16000 block of East Ithaca Place</td>\n",
       "      <td>4</td>\n",
       "      <td>0</td>\n",
       "      <td>http://www.gunviolencearchive.org/incident/478925</td>\n",
       "      <td>http://www.dailydemocrat.com/20130106/aurora-s...</td>\n",
       "      <td>False</td>\n",
       "      <td>...</td>\n",
       "      <td>0::Stacie Philbrook||1::Christopher Ratliffe||...</td>\n",
       "      <td>NaN</td>\n",
       "      <td>0::Killed||1::Killed||2::Killed||3::Killed</td>\n",
       "      <td>0::Victim||1::Victim||2::Victim||3::Subject-Su...</td>\n",
       "      <td>http://denver.cbslocal.com/2013/01/06/officer-...</td>\n",
       "      <td>40</td>\n",
       "      <td>28</td>\n",
       "      <td>2013</td>\n",
       "      <td>1</td>\n",
       "      <td>4</td>\n",
       "    </tr>\n",
       "    <tr>\n",
       "      <th>4</th>\n",
       "      <td>478959</td>\n",
       "      <td>2013-01-07</td>\n",
       "      <td>North Carolina</td>\n",
       "      <td>Greensboro</td>\n",
       "      <td>307 Mourning Dove Terrace</td>\n",
       "      <td>2</td>\n",
       "      <td>2</td>\n",
       "      <td>http://www.gunviolencearchive.org/incident/478959</td>\n",
       "      <td>http://www.journalnow.com/news/local/article_d...</td>\n",
       "      <td>False</td>\n",
       "      <td>...</td>\n",
       "      <td>0::Danielle Imani Jameison||1::Maurice Eugene ...</td>\n",
       "      <td>3::Family</td>\n",
       "      <td>0::Injured||1::Injured||2::Killed||3::Killed</td>\n",
       "      <td>0::Victim||1::Victim||2::Victim||3::Subject-Su...</td>\n",
       "      <td>http://myfox8.com/2013/01/08/update-mother-sho...</td>\n",
       "      <td>62</td>\n",
       "      <td>27</td>\n",
       "      <td>2013</td>\n",
       "      <td>1</td>\n",
       "      <td>4</td>\n",
       "    </tr>\n",
       "  </tbody>\n",
       "</table>\n",
       "<p>5 rows × 32 columns</p>\n",
       "</div>"
      ],
      "text/plain": [
       "   incident_id        date           state city_or_county  \\\n",
       "0       461105  2013-01-01    Pennsylvania     Mckeesport   \n",
       "1       460726  2013-01-01      California      Hawthorne   \n",
       "2       478855  2013-01-01            Ohio         Lorain   \n",
       "3       478925  2013-01-05        Colorado         Aurora   \n",
       "4       478959  2013-01-07  North Carolina     Greensboro   \n",
       "\n",
       "                                     address  n_killed  n_injured  \\\n",
       "0  1506 Versailles Avenue and Coursin Street         0          4   \n",
       "1               13500 block of Cerise Avenue         1          3   \n",
       "2                      1776 East 28th Street         1          3   \n",
       "3           16000 block of East Ithaca Place         4          0   \n",
       "4                  307 Mourning Dove Terrace         2          2   \n",
       "\n",
       "                                        incident_url  \\\n",
       "0  http://www.gunviolencearchive.org/incident/461105   \n",
       "1  http://www.gunviolencearchive.org/incident/460726   \n",
       "2  http://www.gunviolencearchive.org/incident/478855   \n",
       "3  http://www.gunviolencearchive.org/incident/478925   \n",
       "4  http://www.gunviolencearchive.org/incident/478959   \n",
       "\n",
       "                                          source_url  \\\n",
       "0  http://www.post-gazette.com/local/south/2013/0...   \n",
       "1  http://www.dailybulletin.com/article/zz/201301...   \n",
       "2  http://chronicle.northcoastnow.com/2013/02/14/...   \n",
       "3  http://www.dailydemocrat.com/20130106/aurora-s...   \n",
       "4  http://www.journalnow.com/news/local/article_d...   \n",
       "\n",
       "  incident_url_fields_missing   ...    \\\n",
       "0                       False   ...     \n",
       "1                       False   ...     \n",
       "2                       False   ...     \n",
       "3                       False   ...     \n",
       "4                       False   ...     \n",
       "\n",
       "                                    participant_name participant_relationship  \\\n",
       "0                                     0::Julian Sims                      NaN   \n",
       "1                                  0::Bernard Gillis                      NaN   \n",
       "2  0::Damien Bell||1::Desmen Noble||2::Herman Sea...                      NaN   \n",
       "3  0::Stacie Philbrook||1::Christopher Ratliffe||...                      NaN   \n",
       "4  0::Danielle Imani Jameison||1::Maurice Eugene ...                3::Family   \n",
       "\n",
       "                                  participant_status  \\\n",
       "0  0::Arrested||1::Injured||2::Injured||3::Injure...   \n",
       "1      0::Killed||1::Injured||2::Injured||3::Injured   \n",
       "2  0::Injured, Unharmed, Arrested||1::Unharmed, A...   \n",
       "3         0::Killed||1::Killed||2::Killed||3::Killed   \n",
       "4       0::Injured||1::Injured||2::Killed||3::Killed   \n",
       "\n",
       "                                    participant_type  \\\n",
       "0  0::Victim||1::Victim||2::Victim||3::Victim||4:...   \n",
       "1  0::Victim||1::Victim||2::Victim||3::Victim||4:...   \n",
       "2  0::Subject-Suspect||1::Subject-Suspect||2::Vic...   \n",
       "3  0::Victim||1::Victim||2::Victim||3::Subject-Su...   \n",
       "4  0::Victim||1::Victim||2::Victim||3::Subject-Su...   \n",
       "\n",
       "                                             sources state_house_district  \\\n",
       "0  http://pittsburgh.cbslocal.com/2013/01/01/4-pe...                  NaN   \n",
       "1  http://losangeles.cbslocal.com/2013/01/01/man-...                   62   \n",
       "2  http://www.morningjournal.com/general-news/201...                   56   \n",
       "3  http://denver.cbslocal.com/2013/01/06/officer-...                   40   \n",
       "4  http://myfox8.com/2013/01/08/update-mother-sho...                   62   \n",
       "\n",
       "   state_senate_district  year month victims  \n",
       "0                    NaN  2013     1       4  \n",
       "1                     35  2013     1       4  \n",
       "2                     13  2013     1       4  \n",
       "3                     28  2013     1       4  \n",
       "4                     27  2013     1       4  \n",
       "\n",
       "[5 rows x 32 columns]"
      ]
     },
     "execution_count": 6,
     "metadata": {},
     "output_type": "execute_result"
    }
   ],
   "source": [
    "data.head()"
   ]
  },
  {
   "cell_type": "markdown",
   "metadata": {},
   "source": [
    "#### Read in population data. Data was downloaded from the Center for Disease Control website (https://wonder.cdc.gov/population-projections.html)"
   ]
  },
  {
   "cell_type": "code",
   "execution_count": 7,
   "metadata": {
    "collapsed": true
   },
   "outputs": [],
   "source": [
    "pop_data = pd.read_table('./state_pop_projections_2014-2018.txt', dtype = {'Year': np.int32, 'Projected Populations': np.int32})"
   ]
  },
  {
   "cell_type": "code",
   "execution_count": 8,
   "metadata": {},
   "outputs": [
    {
     "data": {
      "text/html": [
       "<div>\n",
       "<style>\n",
       "    .dataframe thead tr:only-child th {\n",
       "        text-align: right;\n",
       "    }\n",
       "\n",
       "    .dataframe thead th {\n",
       "        text-align: left;\n",
       "    }\n",
       "\n",
       "    .dataframe tbody tr th {\n",
       "        vertical-align: top;\n",
       "    }\n",
       "</style>\n",
       "<table border=\"1\" class=\"dataframe\">\n",
       "  <thead>\n",
       "    <tr style=\"text-align: right;\">\n",
       "      <th></th>\n",
       "      <th>Notes</th>\n",
       "      <th>State</th>\n",
       "      <th>State Code</th>\n",
       "      <th>Year</th>\n",
       "      <th>Year Code</th>\n",
       "      <th>Projected Populations</th>\n",
       "    </tr>\n",
       "  </thead>\n",
       "  <tbody>\n",
       "    <tr>\n",
       "      <th>0</th>\n",
       "      <td>NaN</td>\n",
       "      <td>Alabama</td>\n",
       "      <td>1</td>\n",
       "      <td>2014</td>\n",
       "      <td>2014</td>\n",
       "      <td>4649932</td>\n",
       "    </tr>\n",
       "    <tr>\n",
       "      <th>1</th>\n",
       "      <td>NaN</td>\n",
       "      <td>Alabama</td>\n",
       "      <td>1</td>\n",
       "      <td>2015</td>\n",
       "      <td>2015</td>\n",
       "      <td>4663111</td>\n",
       "    </tr>\n",
       "    <tr>\n",
       "      <th>2</th>\n",
       "      <td>NaN</td>\n",
       "      <td>Alabama</td>\n",
       "      <td>1</td>\n",
       "      <td>2016</td>\n",
       "      <td>2016</td>\n",
       "      <td>4676269</td>\n",
       "    </tr>\n",
       "    <tr>\n",
       "      <th>3</th>\n",
       "      <td>NaN</td>\n",
       "      <td>Alabama</td>\n",
       "      <td>1</td>\n",
       "      <td>2017</td>\n",
       "      <td>2017</td>\n",
       "      <td>4689410</td>\n",
       "    </tr>\n",
       "    <tr>\n",
       "      <th>4</th>\n",
       "      <td>NaN</td>\n",
       "      <td>Alabama</td>\n",
       "      <td>1</td>\n",
       "      <td>2018</td>\n",
       "      <td>2018</td>\n",
       "      <td>4702519</td>\n",
       "    </tr>\n",
       "  </tbody>\n",
       "</table>\n",
       "</div>"
      ],
      "text/plain": [
       "   Notes    State  State Code  Year  Year Code  Projected Populations\n",
       "0    NaN  Alabama           1  2014       2014                4649932\n",
       "1    NaN  Alabama           1  2015       2015                4663111\n",
       "2    NaN  Alabama           1  2016       2016                4676269\n",
       "3    NaN  Alabama           1  2017       2017                4689410\n",
       "4    NaN  Alabama           1  2018       2018                4702519"
      ]
     },
     "execution_count": 8,
     "metadata": {},
     "output_type": "execute_result"
    }
   ],
   "source": [
    "pop_data.head()"
   ]
  },
  {
   "cell_type": "markdown",
   "metadata": {},
   "source": [
    "#### Create a dataframe to properly display the population data"
   ]
  },
  {
   "cell_type": "code",
   "execution_count": 9,
   "metadata": {
    "collapsed": true
   },
   "outputs": [],
   "source": [
    "state_dict = {'Alabama': \"AL\", 'Alaska': \"AK\", \"Arizona\": \"AZ\", \"Arkansas\": \"AR\",\n",
    "              \"California\": \"CA\", \"Colorado\": \"CO\", \"Connecticut\": \"CT\", \"Delaware\": \"DE\",\n",
    "              \"District of Columbia\": \"DC\", \"Florida\": \"FL\", \"Georgia\": \"GA\", \"Hawaii\": \"HI\",\n",
    "              \"Idaho\": \"ID\", \"Illinois\": \"IL\", \"Indiana\": \"IN\", \"Iowa\": \"IA\",\n",
    "              \"Kansas\": \"KS\", \"Kentucky\": \"KY\", \"Louisiana\": \"LA\", \"Maine\": \"ME\",\n",
    "              \"Maryland\": \"MD\", \"Massachusetts\": \"MA\", \"Michigan\": \"MI\", \"Minnesota\": \"MN\",\n",
    "              \"Mississippi\": \"MS\", \"Missouri\": \"MO\", \"Montana\": \"MT\", \"Nebraska\": \"NE\",\n",
    "              \"Nevada\": \"NV\", \"New Hampshire\": \"NH\", \"New Jersey\": \"NJ\", \"New Mexico\": \"NM\",\n",
    "              \"New York\": \"NY\", \"North Carolina\": \"NC\", \"North Dakota\": \"ND\", \"Ohio\": \"OH\",\n",
    "              \"Oklahoma\": \"OK\", \"Oregon\": \"OR\", \"Pennsylvania\": \"PA\", \"Rhode Island\": \"RI\",\n",
    "              \"South Carolina\": \"SC\", \"South Dakota\": \"SD\", \"Tennessee\": \"TN\", \"Texas\": \"TX\",\n",
    "              \"Utah\": \"UT\", \"Vermont\": \"VT\", \"Virginia\": \"VA\", \"Washington\": \"WA\",\n",
    "              \"West Virginia\": \"WV\", \"Wisconsin\": \"WI\", \"Wyoming\": \"WY\"}\n",
    "\n",
    "years = (2014,2015,2016,2017,2018)"
   ]
  },
  {
   "cell_type": "code",
   "execution_count": 10,
   "metadata": {
    "collapsed": true
   },
   "outputs": [],
   "source": [
    "pop_data_list = []\n",
    "\n",
    "for i in state_dict:\n",
    "    state_pop = pop_data.loc[pop_data[\"State\"] == i][\"Projected Populations\"].tolist()\n",
    "    pop_data_list.append({\"State\" : i, \"2014\" : state_pop[0],\n",
    "                         \"2015\" : state_pop[1], \"2016\" : state_pop[2], \"2017\" : state_pop[3],\n",
    "                         \"2018\" : state_pop[4]} )\n",
    "    \n",
    "pop_data_cleaned = pd.DataFrame.from_dict(pop_data_list)\n",
    "pop_data_cleaned = pop_data_cleaned[[\"State\", \"2014\", \"2015\", \"2016\", \"2017\", \"2018\"]]"
   ]
  },
  {
   "cell_type": "code",
   "execution_count": 11,
   "metadata": {},
   "outputs": [
    {
     "data": {
      "text/html": [
       "<div>\n",
       "<style>\n",
       "    .dataframe thead tr:only-child th {\n",
       "        text-align: right;\n",
       "    }\n",
       "\n",
       "    .dataframe thead th {\n",
       "        text-align: left;\n",
       "    }\n",
       "\n",
       "    .dataframe tbody tr th {\n",
       "        vertical-align: top;\n",
       "    }\n",
       "</style>\n",
       "<table border=\"1\" class=\"dataframe\">\n",
       "  <thead>\n",
       "    <tr style=\"text-align: right;\">\n",
       "      <th></th>\n",
       "      <th>State</th>\n",
       "      <th>2014</th>\n",
       "      <th>2015</th>\n",
       "      <th>2016</th>\n",
       "      <th>2017</th>\n",
       "      <th>2018</th>\n",
       "    </tr>\n",
       "  </thead>\n",
       "  <tbody>\n",
       "    <tr>\n",
       "      <th>0</th>\n",
       "      <td>Alabama</td>\n",
       "      <td>4649932</td>\n",
       "      <td>4663111</td>\n",
       "      <td>4676269</td>\n",
       "      <td>4689410</td>\n",
       "      <td>4702519</td>\n",
       "    </tr>\n",
       "    <tr>\n",
       "      <th>1</th>\n",
       "      <td>Alaska</td>\n",
       "      <td>724553</td>\n",
       "      <td>732544</td>\n",
       "      <td>740704</td>\n",
       "      <td>748945</td>\n",
       "      <td>757331</td>\n",
       "    </tr>\n",
       "    <tr>\n",
       "      <th>2</th>\n",
       "      <td>Arizona</td>\n",
       "      <td>7315364</td>\n",
       "      <td>7495238</td>\n",
       "      <td>7679249</td>\n",
       "      <td>7867317</td>\n",
       "      <td>8059487</td>\n",
       "    </tr>\n",
       "    <tr>\n",
       "      <th>3</th>\n",
       "      <td>Arkansas</td>\n",
       "      <td>2950287</td>\n",
       "      <td>2968913</td>\n",
       "      <td>2987368</td>\n",
       "      <td>3005726</td>\n",
       "      <td>3023989</td>\n",
       "    </tr>\n",
       "    <tr>\n",
       "      <th>4</th>\n",
       "      <td>California</td>\n",
       "      <td>39705716</td>\n",
       "      <td>40123232</td>\n",
       "      <td>40541658</td>\n",
       "      <td>40959943</td>\n",
       "      <td>41377233</td>\n",
       "    </tr>\n",
       "  </tbody>\n",
       "</table>\n",
       "</div>"
      ],
      "text/plain": [
       "        State      2014      2015      2016      2017      2018\n",
       "0     Alabama   4649932   4663111   4676269   4689410   4702519\n",
       "1      Alaska    724553    732544    740704    748945    757331\n",
       "2     Arizona   7315364   7495238   7679249   7867317   8059487\n",
       "3    Arkansas   2950287   2968913   2987368   3005726   3023989\n",
       "4  California  39705716  40123232  40541658  40959943  41377233"
      ]
     },
     "execution_count": 11,
     "metadata": {},
     "output_type": "execute_result"
    }
   ],
   "source": [
    "pop_data_cleaned.head()"
   ]
  },
  {
   "cell_type": "markdown",
   "metadata": {},
   "source": [
    "#### Isolate the victim counts into its own dataframe, ordered by state and year."
   ]
  },
  {
   "cell_type": "code",
   "execution_count": 12,
   "metadata": {
    "collapsed": true
   },
   "outputs": [],
   "source": [
    "victim_counts = []\n",
    "\n",
    "for state in state_dict:\n",
    "    state_data = []\n",
    "    temp = data.loc[data['state'] == state]\n",
    "    for year in years:\n",
    "        state_year = temp.loc[temp['year'] == year]\n",
    "        state_data.append(state_year['victims'].sum())\n",
    "    victim_counts.append({'State' : state, \"2014\" : state_data[0],\n",
    "                         \"2015\" : state_data[1], \"2016\" : state_data[2], \"2017\" : state_data[3],\n",
    "                         \"2018\" : state_data[4]})\n",
    "    \n",
    "victim_data_cleaned = pd.DataFrame.from_dict(victim_counts)\n",
    "victim_data_cleaned = victim_data_cleaned[[\"State\", \"2014\", \"2015\", \"2016\", \"2017\", \"2018\"]]"
   ]
  },
  {
   "cell_type": "code",
   "execution_count": 13,
   "metadata": {},
   "outputs": [
    {
     "data": {
      "text/html": [
       "<div>\n",
       "<style>\n",
       "    .dataframe thead tr:only-child th {\n",
       "        text-align: right;\n",
       "    }\n",
       "\n",
       "    .dataframe thead th {\n",
       "        text-align: left;\n",
       "    }\n",
       "\n",
       "    .dataframe tbody tr th {\n",
       "        vertical-align: top;\n",
       "    }\n",
       "</style>\n",
       "<table border=\"1\" class=\"dataframe\">\n",
       "  <thead>\n",
       "    <tr style=\"text-align: right;\">\n",
       "      <th></th>\n",
       "      <th>State</th>\n",
       "      <th>2014</th>\n",
       "      <th>2015</th>\n",
       "      <th>2016</th>\n",
       "      <th>2017</th>\n",
       "      <th>2018</th>\n",
       "    </tr>\n",
       "  </thead>\n",
       "  <tbody>\n",
       "    <tr>\n",
       "      <th>0</th>\n",
       "      <td>Alabama</td>\n",
       "      <td>916</td>\n",
       "      <td>947</td>\n",
       "      <td>1249</td>\n",
       "      <td>1400</td>\n",
       "      <td>354</td>\n",
       "    </tr>\n",
       "    <tr>\n",
       "      <th>1</th>\n",
       "      <td>Alaska</td>\n",
       "      <td>78</td>\n",
       "      <td>154</td>\n",
       "      <td>191</td>\n",
       "      <td>139</td>\n",
       "      <td>30</td>\n",
       "    </tr>\n",
       "    <tr>\n",
       "      <th>2</th>\n",
       "      <td>Arizona</td>\n",
       "      <td>442</td>\n",
       "      <td>408</td>\n",
       "      <td>571</td>\n",
       "      <td>587</td>\n",
       "      <td>158</td>\n",
       "    </tr>\n",
       "    <tr>\n",
       "      <th>3</th>\n",
       "      <td>Arkansas</td>\n",
       "      <td>400</td>\n",
       "      <td>400</td>\n",
       "      <td>541</td>\n",
       "      <td>653</td>\n",
       "      <td>126</td>\n",
       "    </tr>\n",
       "    <tr>\n",
       "      <th>4</th>\n",
       "      <td>California</td>\n",
       "      <td>2927</td>\n",
       "      <td>2821</td>\n",
       "      <td>3161</td>\n",
       "      <td>3376</td>\n",
       "      <td>736</td>\n",
       "    </tr>\n",
       "  </tbody>\n",
       "</table>\n",
       "</div>"
      ],
      "text/plain": [
       "        State  2014  2015  2016  2017  2018\n",
       "0     Alabama   916   947  1249  1400   354\n",
       "1      Alaska    78   154   191   139    30\n",
       "2     Arizona   442   408   571   587   158\n",
       "3    Arkansas   400   400   541   653   126\n",
       "4  California  2927  2821  3161  3376   736"
      ]
     },
     "execution_count": 13,
     "metadata": {},
     "output_type": "execute_result"
    }
   ],
   "source": [
    "victim_data_cleaned.head()"
   ]
  },
  {
   "cell_type": "markdown",
   "metadata": {},
   "source": [
    "#### Reformat the state name to its respective two letter abbreviation so Plotly can read it properly"
   ]
  },
  {
   "cell_type": "code",
   "execution_count": 14,
   "metadata": {
    "collapsed": true
   },
   "outputs": [],
   "source": [
    "victim_data_cleaned['State'].replace(state_dict, inplace = True)"
   ]
  },
  {
   "cell_type": "markdown",
   "metadata": {},
   "source": [
    "#### Create another dataset for victim counts per 100K people in that state. "
   ]
  },
  {
   "cell_type": "code",
   "execution_count": 15,
   "metadata": {
    "collapsed": true
   },
   "outputs": [],
   "source": [
    "per_pop = []\n",
    "\n",
    "for i in range(51):\n",
    "    per_pop.append({\"State\": pop_data_cleaned.at[i,\"State\"]})\n",
    "    for year in years:\n",
    "        per_pop[i][str(year)] = (victim_data_cleaned.at[i,str(year)])/(pop_data_cleaned.at[i,str(year)])*100000\n",
    "        \n",
    "per_pop_data_cleaned = pd.DataFrame.from_dict(per_pop)\n",
    "per_pop_data_cleaned = per_pop_data_cleaned[[\"State\", \"2014\", \"2015\", \"2016\", \"2017\", \"2018\"]]"
   ]
  },
  {
   "cell_type": "code",
   "execution_count": 16,
   "metadata": {},
   "outputs": [
    {
     "data": {
      "text/html": [
       "<div>\n",
       "<style>\n",
       "    .dataframe thead tr:only-child th {\n",
       "        text-align: right;\n",
       "    }\n",
       "\n",
       "    .dataframe thead th {\n",
       "        text-align: left;\n",
       "    }\n",
       "\n",
       "    .dataframe tbody tr th {\n",
       "        vertical-align: top;\n",
       "    }\n",
       "</style>\n",
       "<table border=\"1\" class=\"dataframe\">\n",
       "  <thead>\n",
       "    <tr style=\"text-align: right;\">\n",
       "      <th></th>\n",
       "      <th>State</th>\n",
       "      <th>2014</th>\n",
       "      <th>2015</th>\n",
       "      <th>2016</th>\n",
       "      <th>2017</th>\n",
       "      <th>2018</th>\n",
       "    </tr>\n",
       "  </thead>\n",
       "  <tbody>\n",
       "    <tr>\n",
       "      <th>0</th>\n",
       "      <td>Alabama</td>\n",
       "      <td>19.699213</td>\n",
       "      <td>20.308331</td>\n",
       "      <td>26.709327</td>\n",
       "      <td>29.854502</td>\n",
       "      <td>7.527880</td>\n",
       "    </tr>\n",
       "    <tr>\n",
       "      <th>1</th>\n",
       "      <td>Alaska</td>\n",
       "      <td>10.765258</td>\n",
       "      <td>21.022628</td>\n",
       "      <td>25.786279</td>\n",
       "      <td>18.559440</td>\n",
       "      <td>3.961280</td>\n",
       "    </tr>\n",
       "    <tr>\n",
       "      <th>2</th>\n",
       "      <td>Arizona</td>\n",
       "      <td>6.042078</td>\n",
       "      <td>5.443456</td>\n",
       "      <td>7.435623</td>\n",
       "      <td>7.461248</td>\n",
       "      <td>1.960423</td>\n",
       "    </tr>\n",
       "    <tr>\n",
       "      <th>3</th>\n",
       "      <td>Arkansas</td>\n",
       "      <td>13.558003</td>\n",
       "      <td>13.472944</td>\n",
       "      <td>18.109587</td>\n",
       "      <td>21.725201</td>\n",
       "      <td>4.166682</td>\n",
       "    </tr>\n",
       "    <tr>\n",
       "      <th>4</th>\n",
       "      <td>California</td>\n",
       "      <td>7.371735</td>\n",
       "      <td>7.030839</td>\n",
       "      <td>7.796918</td>\n",
       "      <td>8.242199</td>\n",
       "      <td>1.778756</td>\n",
       "    </tr>\n",
       "  </tbody>\n",
       "</table>\n",
       "</div>"
      ],
      "text/plain": [
       "        State       2014       2015       2016       2017      2018\n",
       "0     Alabama  19.699213  20.308331  26.709327  29.854502  7.527880\n",
       "1      Alaska  10.765258  21.022628  25.786279  18.559440  3.961280\n",
       "2     Arizona   6.042078   5.443456   7.435623   7.461248  1.960423\n",
       "3    Arkansas  13.558003  13.472944  18.109587  21.725201  4.166682\n",
       "4  California   7.371735   7.030839   7.796918   8.242199  1.778756"
      ]
     },
     "execution_count": 16,
     "metadata": {},
     "output_type": "execute_result"
    }
   ],
   "source": [
    "per_pop_data_cleaned.head()"
   ]
  },
  {
   "cell_type": "code",
   "execution_count": 17,
   "metadata": {
    "collapsed": true
   },
   "outputs": [],
   "source": [
    "per_pop_data_cleaned['State'].replace(state_dict, inplace = True)"
   ]
  },
  {
   "cell_type": "code",
   "execution_count": 18,
   "metadata": {
    "collapsed": true
   },
   "outputs": [],
   "source": [
    "no_dc = per_pop_data_cleaned[per_pop_data_cleaned.State != 'DC']"
   ]
  },
  {
   "cell_type": "code",
   "execution_count": 19,
   "metadata": {
    "collapsed": true
   },
   "outputs": [],
   "source": [
    "scl = [[0.0, 'rgb(255,255,255)'], [0.1, 'rgb(255,230,230)'], [0.2, 'rgb(255,205,205)'],\\\n",
    "       [0.3, 'rgb(255,180,180)'], [0.4, '255,155,155)'], [0.5, 'rgb(255,130,130)'],\\\n",
    "       [0.6, 'rgb(255,105,105)'],[0.8, 'rgb(255,80,80)'], [0.9, 'rgb(255,40,40)'],\\\n",
    "       [1.0, 'rgb(255,0,0)']]"
   ]
  },
  {
   "cell_type": "markdown",
   "metadata": {},
   "source": [
    "#### Plot the total victim count per 100K people using Plotly's choropleth map feature. Slider bars are included to scroll between year (2014-2018). "
   ]
  },
  {
   "cell_type": "code",
   "execution_count": 20,
   "metadata": {
    "scrolled": false
   },
   "outputs": [
    {
     "data": {
      "text/html": [
       "<iframe id=\"igraph\" scrolling=\"no\" style=\"border:none;\" seamless=\"seamless\" src=\"https://plot.ly/~shermlu/32.embed\" height=\"525px\" width=\"100%\"></iframe>"
      ],
      "text/plain": [
       "<plotly.tools.PlotlyDisplay object>"
      ]
     },
     "execution_count": 20,
     "metadata": {},
     "output_type": "execute_result"
    }
   ],
   "source": [
    "all_year_map_data = []\n",
    "\n",
    "for year in years:\n",
    "    map_data = [ dict(\n",
    "        type='choropleth',\n",
    "        colorscale = scl,\n",
    "        autocolorscale = True,\n",
    "        locations = no_dc['State'],\n",
    "        z = no_dc[str(year)].astype(float),\n",
    "        name = year,\n",
    "        locationmode = 'USA-states',\n",
    "        marker = dict(\n",
    "            line = dict (\n",
    "                color = 'rgb(255,255,255)',\n",
    "                width = 2\n",
    "            ) ),\n",
    "        visible = False,\n",
    "        colorbar = dict(\n",
    "            title = \"Victims (Deaths + Injuries)\")\n",
    "        ) ]\n",
    "    all_year_map_data.extend(map_data)\n",
    "    \n",
    "all_year_map_data[0]['visible'] = True\n",
    "\n",
    "steps = []\n",
    "yr = 0\n",
    "for i in range(0,len(all_year_map_data)):\n",
    "    step = dict(method = \"restyle\",\n",
    "                args = [\"visible\", [False]*len(all_year_map_data)],\n",
    "                label = years[yr]) \n",
    "    step['args'][1][i] = True\n",
    "    steps.append(step)\n",
    "    yr += 1\n",
    "\n",
    "sliders = [dict(active = 10,\n",
    "                currentvalue = {\"prefix\": \"Year: \"},\n",
    "                pad = {\"t\": 50},\n",
    "                steps = steps)]\n",
    "\n",
    "layout = dict(\n",
    "        title = 'US Gun Victims by State (per 100k people)',\n",
    "        geo = dict(\n",
    "            scope='usa',\n",
    "            projection=dict( type='albers usa' ),\n",
    "            showlakes = True,\n",
    "            lakecolor = 'rgb(255, 255, 255)'),\n",
    "        sliders = sliders)\n",
    "    \n",
    "fig = dict( data=all_year_map_data, layout=layout )\n",
    "plotly.iplot( fig, filename='d3-cloropleth-map' )"
   ]
  },
  {
   "cell_type": "markdown",
   "metadata": {},
   "source": [
    "#### Plot the raw total victim counts on another map"
   ]
  },
  {
   "cell_type": "code",
   "execution_count": 21,
   "metadata": {
    "scrolled": false
   },
   "outputs": [
    {
     "data": {
      "text/html": [
       "<iframe id=\"igraph\" scrolling=\"no\" style=\"border:none;\" seamless=\"seamless\" src=\"https://plot.ly/~shermlu/32.embed\" height=\"525px\" width=\"100%\"></iframe>"
      ],
      "text/plain": [
       "<plotly.tools.PlotlyDisplay object>"
      ]
     },
     "execution_count": 21,
     "metadata": {},
     "output_type": "execute_result"
    }
   ],
   "source": [
    "all_year_map_data = []\n",
    "\n",
    "for year in years:\n",
    "    map_data = [ dict(\n",
    "        type='choropleth',\n",
    "        colorscale = scl,\n",
    "        autocolorscale = True,\n",
    "        locations = victim_data_cleaned['State'],\n",
    "        z = victim_data_cleaned[str(year)].astype(float),\n",
    "        locationmode = 'USA-states',\n",
    "        name = year,\n",
    "        marker = dict(\n",
    "            line = dict(\n",
    "                color = 'rgb(255,255,255)',\n",
    "                width = 2) ),\n",
    "        visible = False,\n",
    "        colorbar = dict(title = \"Victims (Deaths + Injuries)\") ) ]\n",
    "    all_year_map_data.extend(map_data)\n",
    "\n",
    "all_year_map_data[0]['visible'] = True\n",
    "\n",
    "steps = []\n",
    "for i in range(len(years)):#range(0,len(all_year_map_data)):\n",
    "    step = dict( method = \"restyle\",\n",
    "            args = [\"visible\", [False]*len(years)],\n",
    "            label = years[i] ) \n",
    "    step['args'][1][i] = True\n",
    "    steps.append(step)\n",
    "\n",
    "sliders = [dict(active = 10,\n",
    "            currentvalue = {\"prefix\": \"Year: \"},\n",
    "            pad = {\"t\": 50},\n",
    "            steps = steps)]\n",
    "\n",
    "layout = dict(\n",
    "        title = 'US Gun Victims by State (Counts)',\n",
    "        geo = dict(\n",
    "            scope='usa',\n",
    "            projection=dict( type='albers usa' ),\n",
    "            showlakes = False,\n",
    "            lakecolor = 'rgb(255, 255, 255)'\n",
    "        ),\n",
    "        sliders = sliders)\n",
    "    \n",
    "fig = dict( data=all_year_map_data, layout=layout )\n",
    "plotly.iplot( fig, filename='d3-cloropleth-map' )"
   ]
  },
  {
   "cell_type": "markdown",
   "metadata": {},
   "source": [
    "#### Note: The 2017 Vegas shooting does skew the data a bit for Nevada. There were nearly 500 deaths and injuries combined, which is an anomaly for a gun incident, even in the US.\n",
    "\n",
    "#### These two maps show why count data has to be displayed as a rate when comparing between events over a different size. In this case, state populations are different, so the data has to be converted to a rate. California has just under 10x the population of Alabama, so it would make sense that California has a lot more gun victims than Alabama. If you look at the rate of gun victims per 100K people per state, Alabama actually comes out to be worse for gun victims. California acerages about 8 gun victims per 100K people, while Alabama roughly averages about 20 victims per 100K people. \n",
    "\n",
    "#### The difference in counts and rates is the difference between narratives. If the raw counts were displayed, one would believe that California is a haven for gun violence and Alabama is actually the better state to live in if you care about not getting shot. However, when you look at the rate, you see that, in fact, California is a lot safer than the counts actually make it. \n",
    "\n",
    "#### From a statistics point of view, this is why the poisson distribution includes an offset term for situations like these. "
   ]
  },
  {
   "cell_type": "markdown",
   "metadata": {},
   "source": [
    "### Isolate the original dataset to only include incidents where there were more than 10 victims. There is no clear definition for what consitutes a mass shooting, so for this scenario, we will define it as a gun incident with more than 10 victims."
   ]
  },
  {
   "cell_type": "code",
   "execution_count": 22,
   "metadata": {
    "collapsed": true
   },
   "outputs": [],
   "source": [
    "mass_shootings = data.loc[data['victims'] > 10]"
   ]
  },
  {
   "cell_type": "markdown",
   "metadata": {},
   "source": [
    "#### Using the mass shooting dataset, plot where each incident occurs using their respective latitude/longitude coordinate. Each bubble is centered around the location, and the size is scaled by how many victims there were. "
   ]
  },
  {
   "cell_type": "code",
   "execution_count": 23,
   "metadata": {},
   "outputs": [
    {
     "data": {
      "text/html": [
       "<iframe id=\"igraph\" scrolling=\"no\" style=\"border:none;\" seamless=\"seamless\" src=\"https://plot.ly/~shermlu/50.embed\" height=\"525px\" width=\"100%\"></iframe>"
      ],
      "text/plain": [
       "<plotly.tools.PlotlyDisplay object>"
      ]
     },
     "execution_count": 23,
     "metadata": {},
     "output_type": "execute_result"
    }
   ],
   "source": [
    "limits = [(10,15),(15,20),(25,30),(30,40),(40,100),(100,500)]\n",
    "colors = [\"rgb(128,128,255)\",\"rgb(255,170,0)\",\"rgb(255,128,128)\",\"rgb(255,110,0)\",\"rgb(0,0,255)\",\"rgb(255,0,0)\"]\n",
    "cities = []\n",
    "scale = 5\n",
    "\n",
    "for i in range(len(limits)):\n",
    "    subset = mass_shootings.loc[mass_shootings['victims'] < limits[i][1]]\n",
    "    subset = subset.loc[subset['victims'] >= limits[i][0]]\n",
    "    city = dict(\n",
    "        type = 'scattergeo',\n",
    "        locationmode = 'USA-states',\n",
    "        lon = subset['longitude'],\n",
    "        lat = subset['latitude'],\n",
    "        text = subset['city_or_county'],\n",
    "        marker = dict(\n",
    "            size = subset['victims']*scale,\n",
    "            color = colors[i],\n",
    "            line = dict(width=0.5, color='rgb(40,40,40)'),\n",
    "            sizemode = 'area'\n",
    "        ),\n",
    "        name = '{} - {} Victims'.format(limits[i][0],limits[i][1]) )\n",
    "    cities.append(city)\n",
    "\n",
    "layout = dict(\n",
    "        title = '2014-2018 US Gun Incidents With 10+ Victims' ,\n",
    "        showlegend = True,\n",
    "        geo = dict(\n",
    "            scope='usa',\n",
    "            projection=dict(type='albers usa'),\n",
    "            showland = True,\n",
    "            landcolor = 'rgb(217, 217, 217)',\n",
    "            subunitwidth=1,\n",
    "            countrywidth=1,\n",
    "            subunitcolor=\"rgb(255, 255, 255)\",\n",
    "            countrycolor=\"rgb(255, 255, 255)\"\n",
    "        )\n",
    "    )\n",
    "fig = dict( data=cities, layout=layout )\n",
    "plotly.iplot( fig, filename='d3-bubble-map-populations')"
   ]
  },
  {
   "cell_type": "markdown",
   "metadata": {},
   "source": [
    "#### Create another dataset of total victim counts per month/year combination. 2018 data only goes up to March, so that is where the dataset ends."
   ]
  },
  {
   "cell_type": "code",
   "execution_count": 24,
   "metadata": {
    "collapsed": true
   },
   "outputs": [],
   "source": [
    "month_year_dict = []\n",
    "\n",
    "for year in years:\n",
    "    year_set = data.loc[data['year'] == year]\n",
    "    if year == 2018:\n",
    "        for month in range (1,4):\n",
    "            month_year_set = year_set.loc[year_set['month'] == month]\n",
    "            month_year_dict.append({'date': '{:02d}/{}'.format(month, year),\n",
    "                                    'month': month,\n",
    "                                    'year': year,\n",
    "                                    'total victims' : month_year_set['victims'].sum()})\n",
    "    else:\n",
    "        for month in range (1,13):\n",
    "            month_year_set = year_set.loc[year_set['month'] == month]\n",
    "            month_year_dict.append({'date': '{:02d}/{}'.format(month, year),\n",
    "                                    'month': month,\n",
    "                                    'year': year,\n",
    "                                    'total victims' : month_year_set['victims'].sum()})\n",
    "                                    \n",
    "month_year_totals = pd.DataFrame.from_dict(month_year_dict)"
   ]
  },
  {
   "cell_type": "markdown",
   "metadata": {},
   "source": [
    "## Plotting the number of total victims per month from January 2014 to March 2018"
   ]
  },
  {
   "cell_type": "code",
   "execution_count": 25,
   "metadata": {
    "scrolled": false
   },
   "outputs": [
    {
     "data": {
      "text/html": [
       "<iframe id=\"igraph\" scrolling=\"no\" style=\"border:none;\" seamless=\"seamless\" src=\"https://plot.ly/~shermlu/54.embed\" height=\"525px\" width=\"100%\"></iframe>"
      ],
      "text/plain": [
       "<plotly.tools.PlotlyDisplay object>"
      ]
     },
     "execution_count": 25,
     "metadata": {},
     "output_type": "execute_result"
    }
   ],
   "source": [
    "trace = [go.Scatter(\n",
    "        x= month_year_totals['date'],\n",
    "        y= month_year_totals['total victims']\n",
    ")]\n",
    "plotly.iplot(trace, filename='basic-line')"
   ]
  },
  {
   "cell_type": "markdown",
   "metadata": {},
   "source": [
    "#### This is a time series with seasonality. In one calendar year, February has the least number of total victims. This could be due to the fact that February has 2-3 less days than other months, but given that the number of victims is substantially less than January and March, there are other factors that are better in explaining this. Conversely, July has the highest number of total victims (except for 2017, but that is because the Las Vegas Shooting had 400+ victims, which would skew the data a bit). The high number of gun victims can be attributed to summer, so people tend to be outside more, and July 4, one of the most violent days annually in America."
   ]
  },
  {
   "cell_type": "markdown",
   "metadata": {},
   "source": [
    "## Plot the total number of victims per year (2018 data consists of January to March data)"
   ]
  },
  {
   "cell_type": "code",
   "execution_count": 26,
   "metadata": {},
   "outputs": [
    {
     "data": {
      "text/html": [
       "<iframe id=\"igraph\" scrolling=\"no\" style=\"border:none;\" seamless=\"seamless\" src=\"https://plot.ly/~shermlu/52.embed\" height=\"525px\" width=\"100%\"></iframe>"
      ],
      "text/plain": [
       "<plotly.tools.PlotlyDisplay object>"
      ]
     },
     "execution_count": 26,
     "metadata": {},
     "output_type": "execute_result"
    }
   ],
   "source": [
    "year_sums = data.groupby('year')['victims'].sum()\n",
    "year_sums = year_sums.drop([2013])\n",
    "year_sums\n",
    "\n",
    "bar_year = [go.Bar(\n",
    "            x= years,\n",
    "            y= year_sums\n",
    "    )]\n",
    "\n",
    "plotly.iplot(bar_year, filename='basic-bar')"
   ]
  },
  {
   "cell_type": "markdown",
   "metadata": {},
   "source": [
    "#### As seen from this chart, there is an increasing trend in the number of gun violence victims per year. "
   ]
  },
  {
   "cell_type": "code",
   "execution_count": null,
   "metadata": {
    "collapsed": true
   },
   "outputs": [],
   "source": []
  }
 ],
 "metadata": {
  "kernelspec": {
   "display_name": "Python 3",
   "language": "python",
   "name": "python3"
  },
  "language_info": {
   "codemirror_mode": {
    "name": "ipython",
    "version": 3
   },
   "file_extension": ".py",
   "mimetype": "text/x-python",
   "name": "python",
   "nbconvert_exporter": "python",
   "pygments_lexer": "ipython3",
   "version": "3.6.1"
  }
 },
 "nbformat": 4,
 "nbformat_minor": 2
}
