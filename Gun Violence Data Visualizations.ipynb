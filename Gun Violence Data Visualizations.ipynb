{
 "cells": [
  {
   "cell_type": "code",
   "execution_count": null,
   "metadata": {
    "collapsed": true
   },
   "outputs": [],
   "source": [
    "import pandas as pd\n",
    "import matplotlib.pyplot as plt\n",
    "import numpy as np\n",
    "%matplotlib inline\n",
    "\n",
    "import plotly.plotly as plotly\n",
    "import plotly.graph_objs as go"
   ]
  },
  {
   "cell_type": "markdown",
   "metadata": {},
   "source": [
    "### This notebook uses a dataset from Kaggle (https://www.kaggle.com/jameslko/gun-violence-data) that contains gun violence data in America from 2013-2018. The entries for 2013 are incomplete, and only data up to March of 2018 are included. Not all gun incidents, including the Las Vegas Shooting, are included. Because that specific incident is  so important, it was added into the dataset. "
   ]
  },
  {
   "cell_type": "markdown",
   "metadata": {},
   "source": [
    "#### Downloading the data and adding Vegas statistics to the dataset"
   ]
  },
  {
   "cell_type": "code",
   "execution_count": null,
   "metadata": {
    "collapsed": true
   },
   "outputs": [],
   "source": [
    "data = pd.read_csv('./gun-violence-data.csv')"
   ]
  },
  {
   "cell_type": "code",
   "execution_count": null,
   "metadata": {
    "collapsed": true
   },
   "outputs": [],
   "source": [
    "lasvegas = [999999999, '2017-10-01', 'Nevada', 'Las Vegas', None, 59, 411, None, None, None, None, \n",
    "            None, None, None, 36.095, None, -115.171667, 47, None, None, None, None, None, None, \n",
    "            None, None, None, None, None]\n",
    "data.loc[len(data)] = lasvegas"
   ]
  },
  {
   "cell_type": "code",
   "execution_count": null,
   "metadata": {},
   "outputs": [],
   "source": [
    "data.tail()"
   ]
  },
  {
   "cell_type": "markdown",
   "metadata": {},
   "source": [
    "#### Add columns that break up the date by year and month, and calculate total number of victims per gun incident. The total number of victims is defined as the sum of the number of people killed and the number of people injured."
   ]
  },
  {
   "cell_type": "code",
   "execution_count": null,
   "metadata": {
    "collapsed": true
   },
   "outputs": [],
   "source": [
    "data['year'] = data['date'].apply(lambda x:pd.to_datetime(x).year)\n",
    "data['month'] = data['date'].apply(lambda x:pd.to_datetime(x).month)\n",
    "data['victims'] = data['n_killed'] + data['n_injured']"
   ]
  },
  {
   "cell_type": "code",
   "execution_count": null,
   "metadata": {},
   "outputs": [],
   "source": [
    "data.head()"
   ]
  },
  {
   "cell_type": "markdown",
   "metadata": {},
   "source": [
    "#### Read in population data. Data was downloaded from the Center for Disease Control website (https://wonder.cdc.gov/population-projections.html)"
   ]
  },
  {
   "cell_type": "code",
   "execution_count": null,
   "metadata": {
    "collapsed": true
   },
   "outputs": [],
   "source": [
    "pop_data = pd.read_table('./state_pop_projections_2014-2018.txt', dtype = {'Year': np.int32, 'Projected Populations': np.int32})"
   ]
  },
  {
   "cell_type": "code",
   "execution_count": null,
   "metadata": {},
   "outputs": [],
   "source": [
    "pop_data.head()"
   ]
  },
  {
   "cell_type": "markdown",
   "metadata": {},
   "source": [
    "#### Create a dataframe to properly display the population data"
   ]
  },
  {
   "cell_type": "code",
   "execution_count": null,
   "metadata": {
    "collapsed": true
   },
   "outputs": [],
   "source": [
    "state_dict = {'Alabama': \"AL\", 'Alaska': \"AK\", \"Arizona\": \"AZ\", \"Arkansas\": \"AR\",\n",
    "              \"California\": \"CA\", \"Colorado\": \"CO\", \"Connecticut\": \"CT\", \"Delaware\": \"DE\",\n",
    "              \"District of Columbia\": \"DC\", \"Florida\": \"FL\", \"Georgia\": \"GA\", \"Hawaii\": \"HI\",\n",
    "              \"Idaho\": \"ID\", \"Illinois\": \"IL\", \"Indiana\": \"IN\", \"Iowa\": \"IA\",\n",
    "              \"Kansas\": \"KS\", \"Kentucky\": \"KY\", \"Louisiana\": \"LA\", \"Maine\": \"ME\",\n",
    "              \"Maryland\": \"MD\", \"Massachusetts\": \"MA\", \"Michigan\": \"MI\", \"Minnesota\": \"MN\",\n",
    "              \"Mississippi\": \"MS\", \"Missouri\": \"MO\", \"Montana\": \"MT\", \"Nebraska\": \"NE\",\n",
    "              \"Nevada\": \"NV\", \"New Hampshire\": \"NH\", \"New Jersey\": \"NJ\", \"New Mexico\": \"NM\",\n",
    "              \"New York\": \"NY\", \"North Carolina\": \"NC\", \"North Dakota\": \"ND\", \"Ohio\": \"OH\",\n",
    "              \"Oklahoma\": \"OK\", \"Oregon\": \"OR\", \"Pennsylvania\": \"PA\", \"Rhode Island\": \"RI\",\n",
    "              \"South Carolina\": \"SC\", \"South Dakota\": \"SD\", \"Tennessee\": \"TN\", \"Texas\": \"TX\",\n",
    "              \"Utah\": \"UT\", \"Vermont\": \"VT\", \"Virginia\": \"VA\", \"Washington\": \"WA\",\n",
    "              \"West Virginia\": \"WV\", \"Wisconsin\": \"WI\", \"Wyoming\": \"WY\"}\n",
    "\n",
    "years = (2014,2015,2016,2017,2018)"
   ]
  },
  {
   "cell_type": "code",
   "execution_count": null,
   "metadata": {
    "collapsed": true
   },
   "outputs": [],
   "source": [
    "pop_data_list = []\n",
    "\n",
    "for i in state_dict:\n",
    "    state_pop = pop_data.loc[pop_data[\"State\"] == i][\"Projected Populations\"].tolist()\n",
    "    pop_data_list.append({\"State\" : i, \"2014\" : state_pop[0],\n",
    "                         \"2015\" : state_pop[1], \"2016\" : state_pop[2], \"2017\" : state_pop[3],\n",
    "                         \"2018\" : state_pop[4]} )\n",
    "    \n",
    "pop_data_cleaned = pd.DataFrame.from_dict(pop_data_list)\n",
    "pop_data_cleaned = pop_data_cleaned[[\"State\", \"2014\", \"2015\", \"2016\", \"2017\", \"2018\"]]"
   ]
  },
  {
   "cell_type": "code",
   "execution_count": null,
   "metadata": {},
   "outputs": [],
   "source": [
    "pop_data_cleaned.head()"
   ]
  },
  {
   "cell_type": "markdown",
   "metadata": {},
   "source": [
    "#### Isolate the victim counts into its own dataframe, ordered by state and year."
   ]
  },
  {
   "cell_type": "code",
   "execution_count": null,
   "metadata": {
    "collapsed": true
   },
   "outputs": [],
   "source": [
    "victim_counts = []\n",
    "\n",
    "for state in state_dict:\n",
    "    state_data = []\n",
    "    temp = data.loc[data['state'] == state]\n",
    "    for year in years:\n",
    "        state_year = temp.loc[temp['year'] == year]\n",
    "        state_data.append(state_year['victims'].sum())\n",
    "    victim_counts.append({'State' : state, \"2014\" : state_data[0],\n",
    "                         \"2015\" : state_data[1], \"2016\" : state_data[2], \"2017\" : state_data[3],\n",
    "                         \"2018\" : state_data[4]})\n",
    "    \n",
    "victim_data_cleaned = pd.DataFrame.from_dict(victim_counts)\n",
    "victim_data_cleaned = victim_data_cleaned[[\"State\", \"2014\", \"2015\", \"2016\", \"2017\", \"2018\"]]"
   ]
  },
  {
   "cell_type": "code",
   "execution_count": null,
   "metadata": {},
   "outputs": [],
   "source": [
    "victim_data_cleaned.head()"
   ]
  },
  {
   "cell_type": "markdown",
   "metadata": {},
   "source": [
    "#### Reformat the state name to its respective two letter abbreviation so Plotly can read it properly"
   ]
  },
  {
   "cell_type": "code",
   "execution_count": null,
   "metadata": {
    "collapsed": true
   },
   "outputs": [],
   "source": [
    "victim_data_cleaned['State'].replace(state_dict, inplace = True)"
   ]
  },
  {
   "cell_type": "markdown",
   "metadata": {},
   "source": [
    "#### Create another dataset for victim counts per 100K people in that state. "
   ]
  },
  {
   "cell_type": "code",
   "execution_count": null,
   "metadata": {
    "collapsed": true
   },
   "outputs": [],
   "source": [
    "per_pop = []\n",
    "\n",
    "for i in range(51):\n",
    "    per_pop.append({\"State\": pop_data_cleaned.at[i,\"State\"]})\n",
    "    for year in years:\n",
    "        per_pop[i][str(year)] = (victim_data_cleaned.at[i,str(year)])/(pop_data_cleaned.at[i,str(year)])*100000\n",
    "        \n",
    "per_pop_data_cleaned = pd.DataFrame.from_dict(per_pop)\n",
    "per_pop_data_cleaned = per_pop_data_cleaned[[\"State\", \"2014\", \"2015\", \"2016\", \"2017\", \"2018\"]]"
   ]
  },
  {
   "cell_type": "code",
   "execution_count": null,
   "metadata": {},
   "outputs": [],
   "source": [
    "per_pop_data_cleaned.head()"
   ]
  },
  {
   "cell_type": "code",
   "execution_count": null,
   "metadata": {
    "collapsed": true
   },
   "outputs": [],
   "source": [
    "per_pop_data_cleaned['State'].replace(state_dict, inplace = True)"
   ]
  },
  {
   "cell_type": "code",
   "execution_count": null,
   "metadata": {
    "collapsed": true
   },
   "outputs": [],
   "source": [
    "no_dc = per_pop_data_cleaned[per_pop_data_cleaned.State != 'DC']"
   ]
  },
  {
   "cell_type": "code",
   "execution_count": null,
   "metadata": {
    "collapsed": true
   },
   "outputs": [],
   "source": [
    "scl = [[0.0, 'rgb(255,255,255)'], [0.1, 'rgb(255,230,230)'], [0.2, 'rgb(255,205,205)'],\\\n",
    "       [0.3, 'rgb(255,180,180)'], [0.4, '255,155,155)'], [0.5, 'rgb(255,130,130)'],\\\n",
    "       [0.6, 'rgb(255,105,105)'],[0.8, 'rgb(255,80,80)'], [0.9, 'rgb(255,40,40)'],\\\n",
    "       [1.0, 'rgb(255,0,0)']]"
   ]
  },
  {
   "cell_type": "markdown",
   "metadata": {},
   "source": [
    "#### Plot the total victim count per 100K people using Plotly's choropleth map feature. Slider bars are included to scroll between year (2014-2018). "
   ]
  },
  {
   "cell_type": "code",
   "execution_count": null,
   "metadata": {
    "scrolled": false
   },
   "outputs": [],
   "source": [
    "all_year_map_data = []\n",
    "\n",
    "for year in years:\n",
    "    map_data = [ dict(\n",
    "        type='choropleth',\n",
    "        colorscale = scl,\n",
    "        autocolorscale = True,\n",
    "        locations = no_dc['State'],\n",
    "        z = no_dc[str(year)].astype(float),\n",
    "        name = year,\n",
    "        locationmode = 'USA-states',\n",
    "        marker = dict(\n",
    "            line = dict (\n",
    "                color = 'rgb(255,255,255)',\n",
    "                width = 2\n",
    "            ) ),\n",
    "        visible = False,\n",
    "        colorbar = dict(\n",
    "            title = \"Victims (Deaths + Injuries)\")\n",
    "        ) ]\n",
    "    all_year_map_data.extend(map_data)\n",
    "    \n",
    "all_year_map_data[0]['visible'] = True\n",
    "\n",
    "steps = []\n",
    "yr = 0\n",
    "for i in range(0,len(all_year_map_data)):\n",
    "    step = dict(method = \"restyle\",\n",
    "                args = [\"visible\", [False]*len(all_year_map_data)],\n",
    "                label = years[yr]) \n",
    "    step['args'][1][i] = True\n",
    "    steps.append(step)\n",
    "    yr += 1\n",
    "\n",
    "sliders = [dict(active = 10,\n",
    "                currentvalue = {\"prefix\": \"Year: \"},\n",
    "                pad = {\"t\": 50},\n",
    "                steps = steps)]\n",
    "\n",
    "layout = dict(\n",
    "        title = 'US Gun Victims by State (per 100k people)',\n",
    "        geo = dict(\n",
    "            scope='usa',\n",
    "            projection=dict( type='albers usa' ),\n",
    "            showlakes = True,\n",
    "            lakecolor = 'rgb(255, 255, 255)'),\n",
    "        sliders = sliders)\n",
    "    \n",
    "fig = dict( data=all_year_map_data, layout=layout )\n",
    "plotly.iplot( fig, filename='gun-rate-map' )"
   ]
  },
  {
   "cell_type": "markdown",
   "metadata": {},
   "source": [
    "#### Plot the raw total victim counts on another map"
   ]
  },
  {
   "cell_type": "code",
   "execution_count": null,
   "metadata": {
    "scrolled": false
   },
   "outputs": [],
   "source": [
    "all_year_map_data = []\n",
    "\n",
    "for year in years:\n",
    "    map_data = [ dict(\n",
    "        type='choropleth',\n",
    "        colorscale = scl,\n",
    "        autocolorscale = True,\n",
    "        locations = victim_data_cleaned['State'],\n",
    "        z = victim_data_cleaned[str(year)].astype(float),\n",
    "        locationmode = 'USA-states',\n",
    "        name = year,\n",
    "        marker = dict(\n",
    "            line = dict(\n",
    "                color = 'rgb(255,255,255)',\n",
    "                width = 2) ),\n",
    "        visible = False,\n",
    "        colorbar = dict(title = \"Victims (Deaths + Injuries)\") ) ]\n",
    "    all_year_map_data.extend(map_data)\n",
    "\n",
    "all_year_map_data[0]['visible'] = True\n",
    "\n",
    "steps = []\n",
    "for i in range(len(years)):#range(0,len(all_year_map_data)):\n",
    "    step = dict( method = \"restyle\",\n",
    "            args = [\"visible\", [False]*len(years)],\n",
    "            label = years[i] ) \n",
    "    step['args'][1][i] = True\n",
    "    steps.append(step)\n",
    "\n",
    "sliders = [dict(active = 10,\n",
    "            currentvalue = {\"prefix\": \"Year: \"},\n",
    "            pad = {\"t\": 50},\n",
    "            steps = steps)]\n",
    "\n",
    "layout = dict(\n",
    "        title = 'US Gun Victims by State (Counts)',\n",
    "        geo = dict(\n",
    "            scope='usa',\n",
    "            projection=dict( type='albers usa' ),\n",
    "            showlakes = False,\n",
    "            lakecolor = 'rgb(255, 255, 255)'\n",
    "        ),\n",
    "        sliders = sliders)\n",
    "    \n",
    "fig = dict( data=all_year_map_data, layout=layout )\n",
    "plotly.iplot( fig, filename='gun-count-map' )"
   ]
  },
  {
   "cell_type": "markdown",
   "metadata": {},
   "source": [
    "#### Note: The 2017 Vegas shooting does skew the data a bit for Nevada. There were nearly 500 deaths and injuries combined, which is an anomaly for a gun incident, even in the US.\n",
    "\n",
    "#### These two maps show why count data has to be displayed as a rate when comparing between events over a different size. In this case, state populations are different, so the data has to be converted to a rate. California has just under 10x the population of Alabama, so it would make sense that California has a lot more gun victims than Alabama. If you look at the rate of gun victims per 100K people per state, Alabama actually comes out to be worse for gun victims. California acerages about 8 gun victims per 100K people, while Alabama roughly averages about 20 victims per 100K people. \n",
    "\n",
    "#### The difference in counts and rates is the difference between narratives. If the raw counts were displayed, one would believe that California is a haven for gun violence and Alabama is a lot safer. However, when you look at the rate, you see that, in fact, California is a lot safer than the raw total actually makes it. \n",
    "\n",
    "#### This is an example why the offset term is included when dealing with counting data and poisson distributions in statistics. Without the offset term in the poisson distribution, you are bound to reach ill-informed conclusions. "
   ]
  },
  {
   "cell_type": "markdown",
   "metadata": {},
   "source": [
    "### Isolate the original dataset to only include incidents where there were more than 10 victims. There is no clear definition for what consitutes a mass shooting, so for this scenario, we will define it as a gun incident with more than 10 victims."
   ]
  },
  {
   "cell_type": "code",
   "execution_count": null,
   "metadata": {
    "collapsed": true
   },
   "outputs": [],
   "source": [
    "mass_shootings = data.loc[data['victims'] > 10]"
   ]
  },
  {
   "cell_type": "markdown",
   "metadata": {},
   "source": [
    "#### Using the mass shooting dataset, plot where each incident occurs using their respective latitude/longitude coordinate. Each bubble is centered around the location, and the size is scaled by how many victims there were. "
   ]
  },
  {
   "cell_type": "code",
   "execution_count": null,
   "metadata": {},
   "outputs": [],
   "source": [
    "limits = [(10,15),(15,20),(25,30),(30,40),(40,100),(100,500)]\n",
    "colors = [\"rgb(128,128,255)\",\"rgb(255,170,0)\",\"rgb(255,128,128)\",\"rgb(255,110,0)\",\"rgb(0,0,255)\",\"rgb(255,0,0)\"]\n",
    "cities = []\n",
    "scale = 5\n",
    "\n",
    "for i in range(len(limits)):\n",
    "    subset = mass_shootings.loc[mass_shootings['victims'] < limits[i][1]]\n",
    "    subset = subset.loc[subset['victims'] >= limits[i][0]]\n",
    "    city = dict(\n",
    "        type = 'scattergeo',\n",
    "        locationmode = 'USA-states',\n",
    "        lon = subset['longitude'],\n",
    "        lat = subset['latitude'],\n",
    "        text = subset['city_or_county'],\n",
    "        marker = dict(\n",
    "            size = subset['victims']*scale,\n",
    "            color = colors[i],\n",
    "            line = dict(width=0.5, color='rgb(40,40,40)'),\n",
    "            sizemode = 'area'\n",
    "        ),\n",
    "        name = '{} - {} Victims'.format(limits[i][0],limits[i][1]) )\n",
    "    cities.append(city)\n",
    "\n",
    "layout = dict(\n",
    "        title = '2014-2018 US Gun Incidents With 10+ Victims' ,\n",
    "        showlegend = True,\n",
    "        geo = dict(\n",
    "            scope='usa',\n",
    "            projection=dict(type='albers usa'),\n",
    "            showland = True,\n",
    "            landcolor = 'rgb(217, 217, 217)',\n",
    "            subunitwidth=1,\n",
    "            countrywidth=1,\n",
    "            subunitcolor=\"rgb(255, 255, 255)\",\n",
    "            countrycolor=\"rgb(255, 255, 255)\"\n",
    "        )\n",
    "    )\n",
    "fig = dict( data=cities, layout=layout )\n",
    "plotly.iplot( fig, filename='mass-murder-map')"
   ]
  },
  {
   "cell_type": "markdown",
   "metadata": {},
   "source": [
    "#### Create another dataset of total victim counts per month/year combination. 2018 data only goes up to March, so that is where the dataset ends."
   ]
  },
  {
   "cell_type": "code",
   "execution_count": null,
   "metadata": {
    "collapsed": true
   },
   "outputs": [],
   "source": [
    "month_year_dict = []\n",
    "\n",
    "for year in years:\n",
    "    year_set = data.loc[data['year'] == year]\n",
    "    if year == 2018:\n",
    "        for month in range (1,4):\n",
    "            month_year_set = year_set.loc[year_set['month'] == month]\n",
    "            month_year_dict.append({'date': '{:02d}/{}'.format(month, year),\n",
    "                                    'month': month,\n",
    "                                    'year': year,\n",
    "                                    'total victims' : month_year_set['victims'].sum()})\n",
    "    else:\n",
    "        for month in range (1,13):\n",
    "            month_year_set = year_set.loc[year_set['month'] == month]\n",
    "            month_year_dict.append({'date': '{:02d}/{}'.format(month, year),\n",
    "                                    'month': month,\n",
    "                                    'year': year,\n",
    "                                    'total victims' : month_year_set['victims'].sum()})\n",
    "                                    \n",
    "month_year_totals = pd.DataFrame.from_dict(month_year_dict)"
   ]
  },
  {
   "cell_type": "markdown",
   "metadata": {},
   "source": [
    "## Plotting the number of total victims per month from January 2014 to March 2018"
   ]
  },
  {
   "cell_type": "code",
   "execution_count": null,
   "metadata": {
    "scrolled": false
   },
   "outputs": [],
   "source": [
    "trace = [go.Scatter(\n",
    "        x= month_year_totals['date'],\n",
    "        y= month_year_totals['total victims']\n",
    ")]\n",
    "plotly.iplot(trace, filename='gun-victim-month-line')"
   ]
  },
  {
   "cell_type": "markdown",
   "metadata": {},
   "source": [
    "#### This is a time series with seasonality. In one calendar year, February has the least number of total victims. This could be due to the fact that February has 2-3 less days than other months, but given that the number of victims is substantially less than January and March, there are other factors that are better in explaining this. Conversely, July has the highest number of total victims (except for 2017, but that is because the Las Vegas Shooting had 400+ victims, which would skew the data a bit). The high number of gun victims can be attributed to summer, so people tend to be outside more, and July 4, one of the most violent days annually in America."
   ]
  },
  {
   "cell_type": "markdown",
   "metadata": {},
   "source": [
    "## Plot the total number of victims per year (2018 data consists of January to March data)"
   ]
  },
  {
   "cell_type": "code",
   "execution_count": null,
   "metadata": {},
   "outputs": [],
   "source": [
    "year_sums = data.groupby('year')['victims'].sum()\n",
    "year_sums = year_sums.drop([2013])\n",
    "year_sums\n",
    "\n",
    "bar_year = [go.Bar(\n",
    "            x= years,\n",
    "            y= year_sums\n",
    "    )]\n",
    "\n",
    "plotly.iplot(bar_year, filename='gun-victim-year-bar')"
   ]
  },
  {
   "cell_type": "markdown",
   "metadata": {},
   "source": [
    "#### As seen from this chart, there is an increasing trend in the number of gun violence victims per year. "
   ]
  }
 ],
 "metadata": {
  "kernelspec": {
   "display_name": "Python 3",
   "language": "python",
   "name": "python3"
  },
  "language_info": {
   "codemirror_mode": {
    "name": "ipython",
    "version": 3
   },
   "file_extension": ".py",
   "mimetype": "text/x-python",
   "name": "python",
   "nbconvert_exporter": "python",
   "pygments_lexer": "ipython3",
   "version": "3.6.1"
  }
 },
 "nbformat": 4,
 "nbformat_minor": 2
}
